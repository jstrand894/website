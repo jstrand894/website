{
  "cells": [
    {
      "cell_type": "raw",
      "metadata": {},
      "source": [
        "---\n",
        "title: \"Helpful Resources & Links\"\n",
        "---"
      ],
      "id": "d9671ee6"
    },
    {
      "cell_type": "markdown",
      "metadata": {},
      "source": [
        "## R Studio\n",
        "\n",
        "1. **Guide to Using R**  \n",
        "   A comprehensive guide for R beginners by [Jared Adam](https://www.linkedin.com/in/jared-adam-24b107241/):  \n",
        "   [One code to rule them all (┛ಠ_ಠ)┛彡O](https://jared-adam-psu.github.io/R-Tutorial-for-Tooker-Lab/)  \n",
        "   This tutorial helps streamline your R learning process, offering clear steps and examples.\n",
        "\n",
        "2. **Codecademy: Learn R**  \n",
        "   A helpful, free interactive tutorial to learn R from the basics:  \n",
        "   [Learn R with Codecademy](https://www.codecademy.com/learn/learn-r?utm_source=pepperjam&utm_medium=affiliate&utm_term=159404&clickId=4716939938&pj_creativeid=8-12462&pj_publisherid=159404)  \n",
        "   Start from the ground up and improve your R programming skills with hands-on practice.\n",
        "\n",
        "3. **R Markdown Documentation**  \n",
        "   Learn to create professional reports, PDFs, and Word documents directly from R code using R Markdown:  \n",
        "   [R Markdown Documentation](https://rmarkdown.rstudio.com/lesson-1.html)  \n",
        "   This resource is great for integrating code with reports and presentations.\n",
        "\n",
        "4. **R Studio Graphing Notes**  \n",
        "   A reference for creating visualizations and graphs using R Studio:  \n",
        "   [R Studio Graphing](https://www.jeffdoser.com/files/for875/_book/)  \n",
        "   This guide provides a deeper dive into R's graphing capabilities.\n",
        "\n",
        "## Quarto Website Building\n",
        "\n",
        "1. **How to Create a Quarto Website**  \n",
        "   A YouTube tutorial showing how to build a website using RStudio, Quarto, and GitHub Pages:  \n",
        "   [How to Create a Web Site Using Quarto, RStudio, and GitHub Pages](https://youtu.be/YN75YXaLFGM?si=RyCG23IMBwFUKsO8)  \n",
        "   Learn how to integrate Quarto with GitHub Pages to host your site.\n",
        "   <iframe width=\"560\" height=\"315\" src=\"https://www.youtube.com/embed/YN75YXaLFGM\" frameborder=\"0\" allowfullscreen></iframe>\n",
        "-   Gallery showing different options for formatting a Quarto website: [Quarto Gallery](https://quarto.org/docs/gallery/)\n",
        "-   Quarto documentation showing how to do a lot of the basics including website navigation, website search, and website tools: <a href=\"https://quarto.org/docs/websites/\" target=\"_blank\">Quarto - Creating a Website</a>\n",
        "\n",
        "## GitHub\n",
        "\n",
        "-   A guide to using GitHub created by [Callum Arnold](https://www.linkedin.com/in/arnold-c/){style=\"text-decoration: none;\"}: <a href=\"https://psu-git.callumarnold.com\" target=\"_blank\">Introduction to Git and GitHub</a>\n",
        "\n",
        "## R Statistics\n",
        "-   [Mixed Effects Models](https://meghan.rbind.io/blog/2022-06-28-a-beginners-guide-to-mixed-effects-models)\n",
        "\n",
        "## Citations\n",
        "\n",
        "1. **Zotero Citations Repository**  \n",
        "   A collection of citation styles for use with Zotero, a free tool for managing references:  \n",
        "   [Zotero Citations Repository](https://www.zotero.org/styles)  \n",
        "   Use this to manage and generate citations for your research papers.\n",
        "\n",
        "## Other \n",
        "1. **Watershed Volunteering**  \n",
        "   Gracea and I volunteered a park near our house to plant trees. You can see us in the back of the video at   \n",
        "   [Watershed Volunteering](https://youtu.be/65MAB0qRtAE?si=beO8jD5t5SOJzooF)  \n",
        "\n",
        "```{html}\n",
        "<iframe width=\"560\" height=\"315\" src=\"https://youtu.be/65MAB0qRtAE?si=beO8jD5t5SOJzooF\" frameborder=\"0\" allowfullscreen></iframe>\n",
        "```\n",
        "\n",
        "2. **Conscious Spending Plan**  \n",
        "   A guide to creating a personal financial plan that prioritizes essential spending and savings:  \n",
        "   [Conscious Spending Plan](https://www.iwillteachyoutoberich.com/c-conscious-spending-plan/)  \n",
        "   A useful resource for developing a budget that reflects your personal financial goals."
      ],
      "id": "7522fee3"
    }
  ],
  "metadata": {
    "kernelspec": {
      "display_name": "Python 3",
      "language": "python",
      "name": "python3"
    }
  },
  "nbformat": 4,
  "nbformat_minor": 5
}